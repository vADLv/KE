{
  "nbformat": 4,
  "nbformat_minor": 0,
  "metadata": {
    "colab": {
      "name": "KazanExpress.ipynb",
      "provenance": [],
      "collapsed_sections": [],
      "toc_visible": true
    },
    "kernelspec": {
      "name": "python3",
      "display_name": "Python 3"
    },
    "language_info": {
      "name": "python"
    }
  },
  "cells": [
    {
      "cell_type": "markdown",
      "metadata": {
        "id": "iA1SCCm9g1zi"
      },
      "source": [
        "Код можно оптимизировать, переписать все в классы, обернуть в докер, и т.д... по запросу :)\n",
        "\n",
        "Спасибо за интересное задание, старался выполнить как можно скорее!"
      ]
    },
    {
      "cell_type": "markdown",
      "metadata": {
        "id": "Av6X8otPhicB"
      },
      "source": [
        "# Анализ и подготовка данных"
      ]
    },
    {
      "cell_type": "code",
      "metadata": {
        "id": "Q65yF2d4kLLU",
        "colab": {
          "base_uri": "https://localhost:8080/"
        },
        "outputId": "d7a861ed-0947-4054-9e5c-c2685c8e5e3e"
      },
      "source": [
        "import numpy as np\n",
        "import pandas as pd\n",
        "import re\n",
        "\n",
        "import nltk\n",
        "nltk.download('punkt')\n",
        "nltk.download('stopwords')\n",
        "from nltk.corpus import stopwords\n",
        "from nltk.stem.snowball import SnowballStemmer  \n",
        "\n",
        "import joblib\n",
        "\n",
        "from sklearn.model_selection import train_test_split, StratifiedKFold, GridSearchCV, cross_val_score\n",
        "from sklearn.metrics import roc_auc_score, f1_score, accuracy_score, confusion_matrix, matthews_corrcoef\n",
        "from sklearn.pipeline import Pipeline\n",
        "from sklearn.ensemble import RandomForestClassifier\n",
        "from sklearn.feature_extraction.text import TfidfVectorizer\n",
        "from sklearn.preprocessing import label_binarize\n",
        "from sklearn.tree import DecisionTreeClassifier\n",
        "import matplotlib.pyplot as plt\n",
        "import seaborn as sn"
      ],
      "execution_count": 2,
      "outputs": [
        {
          "output_type": "stream",
          "name": "stdout",
          "text": [
            "[nltk_data] Downloading package punkt to /root/nltk_data...\n",
            "[nltk_data]   Package punkt is already up-to-date!\n",
            "[nltk_data] Downloading package stopwords to /root/nltk_data...\n",
            "[nltk_data]   Package stopwords is already up-to-date!\n"
          ]
        }
      ]
    },
    {
      "cell_type": "code",
      "metadata": {
        "id": "xkSgMDjBUrTv",
        "colab": {
          "base_uri": "https://localhost:8080/"
        },
        "outputId": "93e91ff5-6738-4107-cfb4-0a40cf5e09c5"
      },
      "source": [
        "from google.colab import drive\n",
        "drive.mount('/content/drive')"
      ],
      "execution_count": 3,
      "outputs": [
        {
          "output_type": "stream",
          "name": "stdout",
          "text": [
            "Drive already mounted at /content/drive; to attempt to forcibly remount, call drive.mount(\"/content/drive\", force_remount=True).\n"
          ]
        }
      ]
    },
    {
      "cell_type": "code",
      "metadata": {
        "id": "SeJ1GGLfUvTT"
      },
      "source": [
        "cat_path = '/content/drive/MyDrive/Colab Notebooks/work/categories.csv'\n",
        "cat_df = pd.read_csv(cat_path)\n",
        "prod_path = '/content/drive/MyDrive/Colab Notebooks/work/products.csv'\n",
        "prod_df = pd.read_csv(prod_path)"
      ],
      "execution_count": 4,
      "outputs": []
    },
    {
      "cell_type": "code",
      "metadata": {
        "colab": {
          "base_uri": "https://localhost:8080/"
        },
        "id": "8E8O2jS6F9lw",
        "outputId": "c66674a5-96a4-455b-8bfb-75c3e65a5522"
      },
      "source": [
        "# Прежде всего решил разобраться со структурой данных\n",
        "# Максимальный путь состоит из 5 чисел, где первое у всех 1\n",
        "# На втором уровне имеем 3 ветви, на 3ем - 36, на 4ом - 250, на 5ом - 715\n",
        "# Также стоит отметить, что не все товары имеют путь длиной 5 и следует учесть это при классификации\n",
        "max_len = 0\n",
        "for i in range(len(cat_df.category_id.unique())):\n",
        "  temp_len = len(cat_df.category_path[i].split('.'))\n",
        "  if max_len < temp_len:\n",
        "    max_len = temp_len\n",
        "max_len"
      ],
      "execution_count": 28,
      "outputs": [
        {
          "output_type": "execute_result",
          "data": {
            "text/plain": [
              "5"
            ]
          },
          "metadata": {},
          "execution_count": 28
        }
      ]
    },
    {
      "cell_type": "code",
      "metadata": {
        "id": "1TuaVtgmEYeo"
      },
      "source": [
        "#функции для подготовки датафрейма\n",
        "def start_pipeline(dataf):\n",
        "  return dataf.copy()\n",
        "def join_dfs(dataf):\n",
        "  return dataf.join(cat_df.set_index('category_id'), on='category_id')\n",
        "\n",
        "#раскрываем путь для классификации на разных уровнях\n",
        "def expand_path(dataf):\n",
        "  dataf[['path1', 'path2','path3','path4','path5']] = dataf['category_path'].str.rsplit('.', expand=True)\n",
        "  return dataf\n",
        "\n",
        "#если отсутствует путь у товара на каком то уровне подменяем на -1 для возможности классифицировать\n",
        "def fill_none(dataf):\n",
        "  dataf = dataf.fillna(value=-1)\n",
        "  dataf[['path1', 'path2','path3','path4','path5']] = dataf[['path1', 'path2','path3','path4','path5']].astype(int)\n",
        "  return dataf\n",
        "\n",
        "#для удобства работы с лейблами факторизируем их после классификации можно будет вернуть обратно исходный путь\n",
        "uniques_path = {}\n",
        "def factorize(dataf):\n",
        "  for i in ['path1','path2','path3','path4','path5']:\n",
        "    dataf[i], uniques_path[i] = dataf[i].factorize()\n",
        "  return dataf\n",
        "\n",
        "def preprocessing(dataf):\n",
        "  dataf['product_title'] = dataf['product_title'].map(preprocess)\n",
        "  return dataf"
      ],
      "execution_count": 6,
      "outputs": []
    },
    {
      "cell_type": "code",
      "metadata": {
        "id": "hp-0dLKtLcJS"
      },
      "source": [
        "def has_cyrillic(text):\n",
        "  return bool(re.search('[\\u0400-\\u04FF]', text))\n",
        "\n",
        "#разный стемминг для англ и рус слов\n",
        "def stem(word):\n",
        "  if has_cyrillic(word):\n",
        "    return stem_ru.stem(word)\n",
        "  else:\n",
        "    return stem_en.stem(word)\n",
        "\n",
        "stem_en = SnowballStemmer(\"english\")\n",
        "stop_words = stopwords.words(\"english\")\n",
        "stem_ru = SnowballStemmer(\"russian\") \n",
        "stop_words.extend(stopwords.words(\"russian\"))\n",
        "#stop_words.extend(['мл','л','кг','г','мм','м'])\n",
        "\n",
        "#были протестированы разные варианты препроцессинга\n",
        "#выигрыш в точности небольшой однако большая оптимизация веса модели за счет уменьшения кол-ва уникальных токенов\n",
        "# 22к токенов против 52к без предварительной обработки (lowercase)\n",
        "#гипотеза в том что цифры в данной задаче не несут значительной информации и могут быть удалены\n",
        "def preprocess(text):\n",
        "  tokenized = nltk.word_tokenize(text)\n",
        "  #return ' '.join([stem(w) for w in tokenized if (w not in stop_words and w.isalpha())])\n",
        "  #return ' '.join([w for w in tokenized if (w not in stop_words and w.isalpha())])\n",
        "  #return ' '.join([stem(w) for w in tokenized if w.isalnum()])\n",
        "  return ' '.join([stem(w) for w in tokenized if w.isalpha()])"
      ],
      "execution_count": 7,
      "outputs": []
    },
    {
      "cell_type": "code",
      "metadata": {
        "colab": {
          "base_uri": "https://localhost:8080/",
          "height": 204
        },
        "id": "s11lni3VkQqV",
        "outputId": "e6c94522-7b91-4414-ec67-644c9a8b712d"
      },
      "source": [
        "cat_df.head()"
      ],
      "execution_count": 8,
      "outputs": [
        {
          "output_type": "execute_result",
          "data": {
            "text/html": [
              "<div>\n",
              "<style scoped>\n",
              "    .dataframe tbody tr th:only-of-type {\n",
              "        vertical-align: middle;\n",
              "    }\n",
              "\n",
              "    .dataframe tbody tr th {\n",
              "        vertical-align: top;\n",
              "    }\n",
              "\n",
              "    .dataframe thead th {\n",
              "        text-align: right;\n",
              "    }\n",
              "</style>\n",
              "<table border=\"1\" class=\"dataframe\">\n",
              "  <thead>\n",
              "    <tr style=\"text-align: right;\">\n",
              "      <th></th>\n",
              "      <th>category_id</th>\n",
              "      <th>category_title</th>\n",
              "      <th>category_path</th>\n",
              "    </tr>\n",
              "  </thead>\n",
              "  <tbody>\n",
              "    <tr>\n",
              "      <th>0</th>\n",
              "      <td>13021</td>\n",
              "      <td>Базы и топы</td>\n",
              "      <td>1.10012.10113.13021</td>\n",
              "    </tr>\n",
              "    <tr>\n",
              "      <th>1</th>\n",
              "      <td>2740</td>\n",
              "      <td>Полки и подставки</td>\n",
              "      <td>1.10018.10110.12842.2740</td>\n",
              "    </tr>\n",
              "    <tr>\n",
              "      <th>2</th>\n",
              "      <td>13182</td>\n",
              "      <td>Салюты</td>\n",
              "      <td>1.10018.10118.10749.13182</td>\n",
              "    </tr>\n",
              "    <tr>\n",
              "      <th>3</th>\n",
              "      <td>2864</td>\n",
              "      <td>Ложки для обуви</td>\n",
              "      <td>1.10018.10110.12823.2864</td>\n",
              "    </tr>\n",
              "    <tr>\n",
              "      <th>4</th>\n",
              "      <td>14154</td>\n",
              "      <td>Аромабудильники и картриджи</td>\n",
              "      <td>1.10020.10227.14154</td>\n",
              "    </tr>\n",
              "  </tbody>\n",
              "</table>\n",
              "</div>"
            ],
            "text/plain": [
              "   category_id               category_title              category_path\n",
              "0        13021                  Базы и топы        1.10012.10113.13021\n",
              "1         2740            Полки и подставки   1.10018.10110.12842.2740\n",
              "2        13182                       Салюты  1.10018.10118.10749.13182\n",
              "3         2864              Ложки для обуви   1.10018.10110.12823.2864\n",
              "4        14154  Аромабудильники и картриджи        1.10020.10227.14154"
            ]
          },
          "metadata": {},
          "execution_count": 8
        }
      ]
    },
    {
      "cell_type": "code",
      "metadata": {
        "colab": {
          "base_uri": "https://localhost:8080/",
          "height": 69
        },
        "id": "tLYNOfUGCuT8",
        "outputId": "8eb3f06f-98ad-48f9-c468-3001a4248013"
      },
      "source": [
        "prod_df_prepared[prod_df_prepared.category_id==10012]"
      ],
      "execution_count": 83,
      "outputs": [
        {
          "output_type": "execute_result",
          "data": {
            "text/html": [
              "<div>\n",
              "<style scoped>\n",
              "    .dataframe tbody tr th:only-of-type {\n",
              "        vertical-align: middle;\n",
              "    }\n",
              "\n",
              "    .dataframe tbody tr th {\n",
              "        vertical-align: top;\n",
              "    }\n",
              "\n",
              "    .dataframe thead th {\n",
              "        text-align: right;\n",
              "    }\n",
              "</style>\n",
              "<table border=\"1\" class=\"dataframe\">\n",
              "  <thead>\n",
              "    <tr style=\"text-align: right;\">\n",
              "      <th></th>\n",
              "      <th>row_number</th>\n",
              "      <th>product_title</th>\n",
              "      <th>category_id</th>\n",
              "      <th>category_title</th>\n",
              "      <th>category_path</th>\n",
              "      <th>path1</th>\n",
              "      <th>path2</th>\n",
              "      <th>path3</th>\n",
              "      <th>path4</th>\n",
              "      <th>path5</th>\n",
              "    </tr>\n",
              "  </thead>\n",
              "  <tbody>\n",
              "  </tbody>\n",
              "</table>\n",
              "</div>"
            ],
            "text/plain": [
              "Empty DataFrame\n",
              "Columns: [row_number, product_title, category_id, category_title, category_path, path1, path2, path3, path4, path5]\n",
              "Index: []"
            ]
          },
          "metadata": {},
          "execution_count": 83
        }
      ]
    },
    {
      "cell_type": "code",
      "metadata": {
        "id": "WnuzITtSkTL1"
      },
      "source": [
        "# подготовка датафрейма\n",
        "prod_df_prepared = (prod_df\n",
        "                   .pipe(start_pipeline)\n",
        "                   .pipe(join_dfs)\n",
        "                   .pipe(expand_path)\n",
        "                   .pipe(fill_none)\n",
        "                   .pipe(factorize)\n",
        "                   .pipe(preprocessing)\n",
        "                   )"
      ],
      "execution_count": 9,
      "outputs": []
    },
    {
      "cell_type": "code",
      "metadata": {
        "colab": {
          "base_uri": "https://localhost:8080/",
          "height": 360
        },
        "id": "XIY7Ibm9l2KR",
        "outputId": "c5e8a408-9428-40e0-8005-c766849f1813"
      },
      "source": [
        "prod_df_prepared.head()"
      ],
      "execution_count": 78,
      "outputs": [
        {
          "output_type": "execute_result",
          "data": {
            "text/html": [
              "<div>\n",
              "<style scoped>\n",
              "    .dataframe tbody tr th:only-of-type {\n",
              "        vertical-align: middle;\n",
              "    }\n",
              "\n",
              "    .dataframe tbody tr th {\n",
              "        vertical-align: top;\n",
              "    }\n",
              "\n",
              "    .dataframe thead th {\n",
              "        text-align: right;\n",
              "    }\n",
              "</style>\n",
              "<table border=\"1\" class=\"dataframe\">\n",
              "  <thead>\n",
              "    <tr style=\"text-align: right;\">\n",
              "      <th></th>\n",
              "      <th>row_number</th>\n",
              "      <th>product_title</th>\n",
              "      <th>category_id</th>\n",
              "      <th>category_title</th>\n",
              "      <th>category_path</th>\n",
              "      <th>path1</th>\n",
              "      <th>path2</th>\n",
              "      <th>path3</th>\n",
              "      <th>path4</th>\n",
              "      <th>path5</th>\n",
              "    </tr>\n",
              "  </thead>\n",
              "  <tbody>\n",
              "    <tr>\n",
              "      <th>0</th>\n",
              "      <td>1</td>\n",
              "      <td>термокружк с животн мл</td>\n",
              "      <td>12407</td>\n",
              "      <td>Термокружки</td>\n",
              "      <td>1.10018.10115.10586.12407</td>\n",
              "      <td>0</td>\n",
              "      <td>0</td>\n",
              "      <td>0</td>\n",
              "      <td>0</td>\n",
              "      <td>0</td>\n",
              "    </tr>\n",
              "    <tr>\n",
              "      <th>1</th>\n",
              "      <td>2</td>\n",
              "      <td>пластиков емкост для хранен круп</td>\n",
              "      <td>12667</td>\n",
              "      <td>Банки и крышки</td>\n",
              "      <td>1.10018.10115.10992.12667</td>\n",
              "      <td>0</td>\n",
              "      <td>0</td>\n",
              "      <td>0</td>\n",
              "      <td>1</td>\n",
              "      <td>1</td>\n",
              "    </tr>\n",
              "    <tr>\n",
              "      <th>2</th>\n",
              "      <td>3</td>\n",
              "      <td>контейнер с дозатор для хранен круп</td>\n",
              "      <td>13901</td>\n",
              "      <td>Емкости для специй и мельницы</td>\n",
              "      <td>1.10018.10115.10992.13901</td>\n",
              "      <td>0</td>\n",
              "      <td>0</td>\n",
              "      <td>0</td>\n",
              "      <td>1</td>\n",
              "      <td>2</td>\n",
              "    </tr>\n",
              "    <tr>\n",
              "      <th>3</th>\n",
              "      <td>4</td>\n",
              "      <td>контейнер для хранен яиц</td>\n",
              "      <td>13674</td>\n",
              "      <td>Контейнеры и ланч-боксы</td>\n",
              "      <td>1.10018.10115.10992.13674</td>\n",
              "      <td>0</td>\n",
              "      <td>0</td>\n",
              "      <td>0</td>\n",
              "      <td>1</td>\n",
              "      <td>3</td>\n",
              "    </tr>\n",
              "    <tr>\n",
              "      <th>4</th>\n",
              "      <td>5</td>\n",
              "      <td>губкодержател</td>\n",
              "      <td>13254</td>\n",
              "      <td>Принадлежности для мытья посуды</td>\n",
              "      <td>1.10018.10115.10390.13254</td>\n",
              "      <td>0</td>\n",
              "      <td>0</td>\n",
              "      <td>0</td>\n",
              "      <td>2</td>\n",
              "      <td>4</td>\n",
              "    </tr>\n",
              "  </tbody>\n",
              "</table>\n",
              "</div>"
            ],
            "text/plain": [
              "   row_number                        product_title  ...  path4 path5\n",
              "0           1               термокружк с животн мл  ...      0     0\n",
              "1           2     пластиков емкост для хранен круп  ...      1     1\n",
              "2           3  контейнер с дозатор для хранен круп  ...      1     2\n",
              "3           4             контейнер для хранен яиц  ...      1     3\n",
              "4           5                        губкодержател  ...      2     4\n",
              "\n",
              "[5 rows x 10 columns]"
            ]
          },
          "metadata": {},
          "execution_count": 78
        }
      ]
    },
    {
      "cell_type": "code",
      "metadata": {
        "colab": {
          "base_uri": "https://localhost:8080/"
        },
        "id": "1PVtoN8jEtZ1",
        "outputId": "248cce2a-6660-44b7-e6d7-4f8bf7e1e157"
      },
      "source": [
        "len(prod_df_prepared.category_path.unique())"
      ],
      "execution_count": 11,
      "outputs": [
        {
          "output_type": "execute_result",
          "data": {
            "text/plain": [
              "787"
            ]
          },
          "metadata": {},
          "execution_count": 11
        }
      ]
    },
    {
      "cell_type": "code",
      "metadata": {
        "colab": {
          "base_uri": "https://localhost:8080/"
        },
        "id": "StjbcXJZzGgG",
        "outputId": "f1c2ca48-1730-4916-c090-0500988ef016"
      },
      "source": [
        "# нужно для восстановления пути\n",
        "uniques_path"
      ],
      "execution_count": 12,
      "outputs": [
        {
          "output_type": "execute_result",
          "data": {
            "text/plain": [
              "{'path1': Int64Index([1], dtype='int64'),\n",
              " 'path2': Int64Index([10018, 10020, 10012], dtype='int64'),\n",
              " 'path3': Int64Index([10115, 10110, 10191, 10044, 10144, 10030, 10074, 10073, 10113,\n",
              "             10049, 10165, 10137, 10094,  2894, 10091, 10118, 10070, 10084,\n",
              "             10141, 10219, 10180, 10129, 10163, 10232, 10226, 10058, 10169,\n",
              "             10186, 10086,  2673, 10184, 10197, 10185, 10227, 10150, 10205,\n",
              "             10176],\n",
              "            dtype='int64'),\n",
              " 'path4': Int64Index([10586, 10992, 10390, 10377, 14095, 12842, 10890, 10559, 11120,\n",
              "             11215,\n",
              "             ...\n",
              "              2898, 14154, 12418, 13921, 13196, 13087, 13224, 13035, 14379,\n",
              "             12505],\n",
              "            dtype='int64', length=239),\n",
              " 'path5': Int64Index([12407, 12667, 13901, 13674, 13254, 11999,    -1, 13170,  2744,\n",
              "             11978,\n",
              "             ...\n",
              "             12244, 14259, 13840, 13722, 11876, 12656, 12542,  2686, 11819,\n",
              "             14066],\n",
              "            dtype='int64', length=639)}"
            ]
          },
          "metadata": {},
          "execution_count": 12
        }
      ]
    },
    {
      "cell_type": "markdown",
      "metadata": {
        "id": "4TOWygJkhtAV"
      },
      "source": [
        "# Построение модели классификации"
      ]
    },
    {
      "cell_type": "code",
      "metadata": {
        "id": "0veWMZl9SmUy"
      },
      "source": [
        "# Разные модели были опробованы\n",
        "# DecisionTreeClassifier для построения логики программы выдает порядка 60% точности для предсказания 1/3 главных категорий\n",
        "# XLMRoberta мультиязычная NN, но достаточно долгая и тяжеловесная\n",
        "# Random Forest справляется значительно быстрее и не хуже. Выбрана для текущей задачи."
      ],
      "execution_count": 171,
      "outputs": []
    },
    {
      "cell_type": "code",
      "metadata": {
        "id": "8UhqWII9daa6"
      },
      "source": [
        "# Разные подходы к иерархической классификации были рассмотрены\n",
        "# Можно использовать 1 классификатор для 787 различных путей категорий 77%\n",
        "# Либо обучить отдельный классификатор для каждого ветвления дерева пути категорий 85-90% на каждом уровне"
      ],
      "execution_count": 24,
      "outputs": []
    },
    {
      "cell_type": "markdown",
      "metadata": {
        "id": "qKIWpOWB6Z9T"
      },
      "source": [
        "## Общая модель"
      ]
    },
    {
      "cell_type": "code",
      "metadata": {
        "colab": {
          "base_uri": "https://localhost:8080/"
        },
        "id": "KB-d25ztHyvY",
        "outputId": "4806112c-89dc-4827-ab78-4e4e1da4cc09"
      },
      "source": [
        "clf=Pipeline([\n",
        "              ('tfidf_vectorizer', TfidfVectorizer(lowercase=True)),\n",
        "              ('rf_classifier', RandomForestClassifier(n_estimators=5,verbose=0,n_jobs=-1))\n",
        "              ])\n",
        "\n",
        "X_train,X_test,y_train,y_test= train_test_split(\n",
        "    prod_df_prepared['product_title'], prod_df_prepared['category_id'], test_size=0.2)\n",
        "#    , stratify=prod_df_prepared['category_id'])\n",
        "# The least populated class in y has only 1 member, which is too few.\n",
        "  \n",
        "clf.fit(X_train,y_train)\n",
        "y_pred=clf.predict(X_test)\n",
        "\n",
        "accuracy_score(y_test,y_pred), matthews_corrcoef(y_test,y_pred)"
      ],
      "execution_count": 14,
      "outputs": [
        {
          "output_type": "execute_result",
          "data": {
            "text/plain": [
              "(0.7752021376270951, 0.770294753170435)"
            ]
          },
          "metadata": {},
          "execution_count": 14
        }
      ]
    },
    {
      "cell_type": "code",
      "metadata": {
        "id": "vZd0PgMcHyzo"
      },
      "source": [
        "# Метрики\n",
        "# Стандартный accuracy_score хорошо подходит для оценки общей картины\n",
        "# MCC широко используется для мультиклассовых случаев и больше учитывает несбалансированность классов\n",
        "# также смотрел метрики roc_auc и F1 с разным усреднением, в целом все метрики на одном уровне"
      ],
      "execution_count": 27,
      "outputs": []
    },
    {
      "cell_type": "code",
      "metadata": {
        "id": "XIPXNVAqSmiF"
      },
      "source": [
        "# для поиска наилучших парамтров модели запускаем гридсеарч с кроссвалидацией\n",
        "rf_params = {'tfidf_vectorizer__lowercase': [True,False],\n",
        "             'rf_classifier__n_estimators': [2], \n",
        "             'rf_classifier__max_features': ['auto','log2',None],\n",
        "             'rf_classifier__criterion': ['gini','entropy']\n",
        "}"
      ],
      "execution_count": 20,
      "outputs": []
    },
    {
      "cell_type": "code",
      "metadata": {
        "id": "oSi2Yv9AIsCy"
      },
      "source": [
        "rf_grid = GridSearchCV(clf, rf_params,cv=5, n_jobs=-1,verbose=True)\n",
        "rf_grid.fit(X_train, y_train)"
      ],
      "execution_count": null,
      "outputs": []
    },
    {
      "cell_type": "code",
      "metadata": {
        "colab": {
          "base_uri": "https://localhost:8080/"
        },
        "id": "hSjNdf8II7Jw",
        "outputId": "5df280de-42b4-4e35-fee0-70b97ac0d499"
      },
      "source": [
        "rf_grid.best_params_"
      ],
      "execution_count": 23,
      "outputs": [
        {
          "output_type": "execute_result",
          "data": {
            "text/plain": [
              "{'rf_classifier__criterion': 'gini',\n",
              " 'rf_classifier__max_features': None,\n",
              " 'rf_classifier__n_estimators': 2,\n",
              " 'tfidf_vectorizer__lowercase': True}"
            ]
          },
          "metadata": {},
          "execution_count": 23
        }
      ]
    },
    {
      "cell_type": "code",
      "metadata": {
        "colab": {
          "base_uri": "https://localhost:8080/"
        },
        "id": "w9ESORG-h9U4",
        "outputId": "3f55904e-f456-42e2-8f76-b673e2c69021"
      },
      "source": [
        "# Если предсказывать путь согласно иерархии отдельным классификатором для каждой ноды дерева получаем более высокую точность\n",
        "# Поэтому в следующей секции я решил построить иерархию моделей\n",
        "clf=Pipeline([\n",
        "              ('tfidf_vectorizer', TfidfVectorizer(lowercase=True)),\n",
        "              ('rf_classifier', RandomForestClassifier(n_estimators=5,verbose=0,n_jobs=-1))\n",
        "              ])\n",
        "\n",
        "X_train,X_test,y_train,y_test= train_test_split(\n",
        "    prod_df_prepared['product_title'], prod_df_prepared['path2'], test_size=0.2)\n",
        "  \n",
        "clf.fit(X_train,y_train)\n",
        "y_pred=clf.predict(X_test)\n",
        "\n",
        "accuracy_score(y_test,y_pred), matthews_corrcoef(y_test,y_pred)"
      ],
      "execution_count": 37,
      "outputs": [
        {
          "output_type": "execute_result",
          "data": {
            "text/plain": [
              "(0.9761946073498282, 0.9641526137335446)"
            ]
          },
          "metadata": {},
          "execution_count": 37
        }
      ]
    },
    {
      "cell_type": "code",
      "metadata": {
        "colab": {
          "base_uri": "https://localhost:8080/",
          "height": 282
        },
        "id": "xf2iLlFLU2AQ",
        "outputId": "1d452682-21e7-4e5a-f2f9-9ab619f00b80"
      },
      "source": [
        "#конфматрица для 3х корневых директорий\n",
        "conf_matrix = confusion_matrix(y_test,y_pred)\n",
        "df_cm = pd.DataFrame(conf_matrix)\n",
        "plt.figure(figsize = (5,4))\n",
        "sn.heatmap(df_cm, annot=True)"
      ],
      "execution_count": 38,
      "outputs": [
        {
          "output_type": "execute_result",
          "data": {
            "text/plain": [
              "<matplotlib.axes._subplots.AxesSubplot at 0x7f0ed4997950>"
            ]
          },
          "metadata": {},
          "execution_count": 38
        },
        {
          "output_type": "display_data",
          "data": {
            "image/png": "[encoded data removed]",
            "text/plain": [
              "<Figure size 360x288 with 2 Axes>"
            ]
          },
          "metadata": {
            "needs_background": "light"
          }
        }
      ]
    },
    {
      "cell_type": "markdown",
      "metadata": {
        "id": "DbE19fxS7l6R"
      },
      "source": [
        "## Иерархия моделей"
      ]
    },
    {
      "cell_type": "code",
      "metadata": {
        "id": "TZv1SK0-wvqp"
      },
      "source": [
        "# Сохраняем все модели и метрики в отдельные словари\n",
        "models = {}\n",
        "metrics = {}\n",
        "for j in range(len(uniques_path.keys())-1):\n",
        "  prev_path = list(uniques_path.keys())[j]\n",
        "  next_path = list(uniques_path.keys())[j+1]\n",
        "\n",
        "  for i in range(len(uniques_path[prev_path])):\n",
        "    clf=Pipeline([\n",
        "                  ('tfidf_vectorizer', TfidfVectorizer(lowercase=True)),\n",
        "                  ('rf_classifier', RandomForestClassifier(n_estimators=5,verbose=0,n_jobs=-1))\n",
        "                  ])\n",
        "    \n",
        "    df = prod_df_prepared[prod_df_prepared[prev_path] == i].copy().reset_index(drop=True)\n",
        "    #print(i)\n",
        "\n",
        "    try:\n",
        "      X_train,X_test,y_train,y_test= train_test_split(\n",
        "          df['product_title'], df[next_path], test_size=0.15)\n",
        "      \n",
        "      clf.fit(X_train,y_train)\n",
        "      y_pred=clf.predict(X_test)\n",
        "      acc = accuracy_score(y_test,y_pred)\n",
        "      mcc = matthews_corrcoef(y_test,y_pred)\n",
        "\n",
        "      if models.get(prev_path):\n",
        "        models[prev_path].append(clf)\n",
        "        metrics[prev_path].append({'acc':acc,'mcc':mcc})\n",
        "      else:\n",
        "        models[prev_path] = [clf]\n",
        "        metrics[prev_path] = [{'acc':acc,'mcc':mcc}]\n",
        "    except:\n",
        "      pass"
      ],
      "execution_count": null,
      "outputs": []
    },
    {
      "cell_type": "code",
      "metadata": {
        "colab": {
          "base_uri": "https://localhost:8080/"
        },
        "id": "_tmmekTJ9qKI",
        "outputId": "92c6ded0-c4a1-48c1-ca11-f82087457426"
      },
      "source": [
        "# получаем дерево метрик и моделей (mcc не всегда может быть определена, так как иногда у родителя может быть только один наследник)\n",
        "len(models['path2']),len(models['path3']),len(models['path4'])"
      ],
      "execution_count": 62,
      "outputs": [
        {
          "output_type": "execute_result",
          "data": {
            "text/plain": [
              "(3, 37, 234)"
            ]
          },
          "metadata": {},
          "execution_count": 62
        }
      ]
    },
    {
      "cell_type": "code",
      "metadata": {
        "id": "9Xyx3AwoTVqN"
      },
      "source": [
        "class Model:\n",
        "  def __init__(self,models,uniques_path,prod_df_prepared):\n",
        "    self.models = models\n",
        "    self.uniques_path = uniques_path\n",
        "    self.cat_df = cat_df\n",
        "\n",
        "# получение названия категорий\n",
        "  def get_address(self, add):\n",
        "    add = add.split('.')[1:]\n",
        "    #add = self.cat_df[self.cat_df.category_id==cat_id].category_path.iloc[0].split('.')[1:]\n",
        "    add_text = []\n",
        "    for i in add:\n",
        "      try:\n",
        "        add_text.append(self.cat_df[self.cat_df.category_id==int(i)].category_title.iloc[0].strip())\n",
        "      except:\n",
        "        add_text.append('-')\n",
        "    return add_text\n",
        "\n",
        "#возврат к исходным ид\n",
        "  def unfac(self, add):\n",
        "    address = []\n",
        "    for a in add.keys():\n",
        "      if self.uniques_path[a][add[a]] != -1:\n",
        "        address.append(str(self.uniques_path[a][add[a]]))\n",
        "    return \".\".join(address)\n",
        "\n",
        "#проходим по дереву моделей предсказывая категорию от родительской до листовой    \n",
        "  def predict(self,text):\n",
        "    add={}\n",
        "    add['path1']=0\n",
        "    for i in range(len(self.models.keys())):\n",
        "      prev_path = list(self.uniques_path.keys())[i]\n",
        "      next_path = list(self.uniques_path.keys())[i+1]\n",
        "\n",
        "      add[next_path] = self.models[prev_path][add[prev_path]].predict([text])[0]\n",
        "    return self.unfac(add)"
      ],
      "execution_count": 102,
      "outputs": []
    },
    {
      "cell_type": "code",
      "metadata": {
        "id": "oWElIuwoXUYq"
      },
      "source": [
        "# создание объекта класса нашей иерархической модели\n",
        "model = Model(models,uniques_path,prod_df_prepared)"
      ],
      "execution_count": 103,
      "outputs": []
    },
    {
      "cell_type": "code",
      "metadata": {
        "colab": {
          "base_uri": "https://localhost:8080/",
          "height": 35
        },
        "id": "BECn2tjqXbfo",
        "outputId": "c8cef39f-c538-4e08-abb0-fd218510b2ea"
      },
      "source": [
        "test = 'Маска для лица'\n",
        "test_path = model.predict(preprocess(test))\n",
        "test_path"
      ],
      "execution_count": 107,
      "outputs": [
        {
          "output_type": "execute_result",
          "data": {
            "application/vnd.google.colaboratory.intrinsic+json": {
              "type": "string"
            },
            "text/plain": [
              "'1.10012.10137.10476.14125'"
            ]
          },
          "metadata": {},
          "execution_count": 107
        }
      ]
    },
    {
      "cell_type": "code",
      "metadata": {
        "colab": {
          "base_uri": "https://localhost:8080/"
        },
        "id": "7X3gRhEE_7wr",
        "outputId": "9729bdc2-cf47-4445-941f-2a2c8baf7fd3"
      },
      "source": [
        "model.get_address(test_path)"
      ],
      "execution_count": 108,
      "outputs": [
        {
          "output_type": "execute_result",
          "data": {
            "text/plain": [
              "['Красота', 'Уход за лицом', 'Маски', 'Маски тканевые']"
            ]
          },
          "metadata": {},
          "execution_count": 108
        }
      ]
    },
    {
      "cell_type": "code",
      "metadata": {
        "id": "MGedtlYNeAPu"
      },
      "source": [
        "model_path = '/content/drive/MyDrive/Colab Notebooks/work/model.joblib'"
      ],
      "execution_count": null,
      "outputs": []
    },
    {
      "cell_type": "code",
      "metadata": {
        "colab": {
          "base_uri": "https://localhost:8080/"
        },
        "id": "DBa6VjXTeASh",
        "outputId": "65e1e029-d728-44ea-f8bc-defc2b800d30"
      },
      "source": [
        "joblib.dump(model,model_path)\n",
        "#103МБ"
      ],
      "execution_count": 109,
      "outputs": [
        {
          "output_type": "execute_result",
          "data": {
            "text/plain": [
              "['/content/drive/MyDrive/Colab Notebooks/work/model.joblib']"
            ]
          },
          "metadata": {},
          "execution_count": 109
        }
      ]
    },
    {
      "cell_type": "code",
      "metadata": {
        "id": "XrYKQl3BK7ZO"
      },
      "source": [
        "# далее можно выгрузить модель и использовать для предсказания товаров в области трех изученных категорий\n",
        "#Красота, Электроника, Товары для дома"
      ],
      "execution_count": null,
      "outputs": []
    },
    {
      "cell_type": "code",
      "metadata": {
        "colab": {
          "base_uri": "https://localhost:8080/"
        },
        "id": "adWTv-mcWtdb",
        "outputId": "f74d5f9e-55f5-425d-89f3-b78a9323f339"
      },
      "source": [
        "#для предсказания новой категории обязательно используем тот же препроцессинг\n",
        "#названия некоторых категорий неизвестны (нет в данном файле) вместо них \"-\"\n",
        "demo_text = [\"Полотенце\", \"Маска для лица\", \"Колонка с блютусом\"]\n",
        "pr = [model.predict(preprocess(j)) for j in demo_text]\n",
        "ct = [\"->\".join(model.get_address(i)) for i in pr]\n",
        "print(\"------------------ Product classification model DEMO ------------------\")\n",
        "print('{0:20}\\t{1:25}\\t{2:20}'.format('Product title', 'Category path', 'Category title'))\n",
        "for text, path, title in zip(demo_text,pr,ct):\n",
        "  print('{0:20}\\t{1:25}\\t{2:20}'.format(text, path,title))"
      ],
      "execution_count": 158,
      "outputs": [
        {
          "output_type": "stream",
          "name": "stdout",
          "text": [
            "------------------ Product classification model DEMO ------------------\n",
            "Product title       \tCategory path            \tCategory title      \n",
            "Полотенце           \t1.10018.10049.13799      \tТовары для дома->Текстиль->Полотенца\n",
            "Маска для лица      \t1.10012.10137.10476.14125\tКрасота->Уход за лицом->Маски->Маски тканевые\n",
            "Колонка с блютусом  \t1.10020.10144.10374.13083\t-->-->-->Портативная акустика\n"
          ]
        }
      ]
    },
    {
      "cell_type": "markdown",
      "metadata": {
        "id": "yqh-8BXjRdhv"
      },
      "source": [
        "## Ошибочное предсказание"
      ]
    },
    {
      "cell_type": "code",
      "metadata": {
        "colab": {
          "base_uri": "https://localhost:8080/"
        },
        "id": "rzzKGzaHMSvC",
        "outputId": "17baed63-ed70-4b03-e128-b0cf0bca3e51"
      },
      "source": [
        "for i in list(prod_df.product_title):\n",
        "  if int(model.predict(preprocess(i)).split('.')[-1])!=prod_df[prod_df.product_title==i].category_id.iloc[0]:\n",
        "    wrong_text = i\n",
        "    print(i)\n",
        "    break"
      ],
      "execution_count": 140,
      "outputs": [
        {
          "output_type": "stream",
          "name": "stdout",
          "text": [
            "Держатель на кухонный гарнитур под отходы\n"
          ]
        }
      ]
    },
    {
      "cell_type": "code",
      "metadata": {
        "colab": {
          "base_uri": "https://localhost:8080/",
          "height": 35
        },
        "id": "qrBGlI9qIx9z",
        "outputId": "40e1a44a-ee58-4542-9546-1f5a21c80475"
      },
      "source": [
        "model.predict(preprocess(wrong_text))"
      ],
      "execution_count": 150,
      "outputs": [
        {
          "output_type": "execute_result",
          "data": {
            "application/vnd.google.colaboratory.intrinsic+json": {
              "type": "string"
            },
            "text/plain": [
              "'1.10018.10110.12842.2744'"
            ]
          },
          "metadata": {},
          "execution_count": 150
        }
      ]
    },
    {
      "cell_type": "code",
      "metadata": {
        "colab": {
          "base_uri": "https://localhost:8080/"
        },
        "id": "ERMMOCMoRD1E",
        "outputId": "fd4f27ca-3687-4629-c97f-b6ab23ea3c85"
      },
      "source": [
        "model.get_address(model.predict(preprocess(wrong_text)))"
      ],
      "execution_count": 149,
      "outputs": [
        {
          "output_type": "execute_result",
          "data": {
            "text/plain": [
              "['Товары для дома',\n",
              " 'Хозяйственные товары',\n",
              " 'Аксессуары для ванной',\n",
              " 'Крючки и держатели']"
            ]
          },
          "metadata": {},
          "execution_count": 149
        }
      ]
    },
    {
      "cell_type": "code",
      "metadata": {
        "colab": {
          "base_uri": "https://localhost:8080/",
          "height": 134
        },
        "id": "-RkQpeiJQQNw",
        "outputId": "ca39ae2e-392b-47b7-c96e-ed7c0e078a75"
      },
      "source": [
        "prod_df_prepared[prod_df_prepared.product_title==preprocess(wrong_text)]"
      ],
      "execution_count": 148,
      "outputs": [
        {
          "output_type": "execute_result",
          "data": {
            "text/html": [
              "<div>\n",
              "<style scoped>\n",
              "    .dataframe tbody tr th:only-of-type {\n",
              "        vertical-align: middle;\n",
              "    }\n",
              "\n",
              "    .dataframe tbody tr th {\n",
              "        vertical-align: top;\n",
              "    }\n",
              "\n",
              "    .dataframe thead th {\n",
              "        text-align: right;\n",
              "    }\n",
              "</style>\n",
              "<table border=\"1\" class=\"dataframe\">\n",
              "  <thead>\n",
              "    <tr style=\"text-align: right;\">\n",
              "      <th></th>\n",
              "      <th>row_number</th>\n",
              "      <th>product_title</th>\n",
              "      <th>category_id</th>\n",
              "      <th>category_title</th>\n",
              "      <th>category_path</th>\n",
              "      <th>path1</th>\n",
              "      <th>path2</th>\n",
              "      <th>path3</th>\n",
              "      <th>path4</th>\n",
              "      <th>path5</th>\n",
              "    </tr>\n",
              "  </thead>\n",
              "  <tbody>\n",
              "    <tr>\n",
              "      <th>6</th>\n",
              "      <td>7</td>\n",
              "      <td>держател на кухон гарнитур под отход</td>\n",
              "      <td>14095</td>\n",
              "      <td>Мусорные ведра и баки</td>\n",
              "      <td>1.10018.10110.14095</td>\n",
              "      <td>0</td>\n",
              "      <td>0</td>\n",
              "      <td>1</td>\n",
              "      <td>4</td>\n",
              "      <td>6</td>\n",
              "    </tr>\n",
              "  </tbody>\n",
              "</table>\n",
              "</div>"
            ],
            "text/plain": [
              "   row_number                         product_title  ...  path4 path5\n",
              "6           7  держател на кухон гарнитур под отход  ...      4     6\n",
              "\n",
              "[1 rows x 10 columns]"
            ]
          },
          "metadata": {},
          "execution_count": 148
        }
      ]
    },
    {
      "cell_type": "code",
      "metadata": {
        "id": "T6lxAIqUIuwn"
      },
      "source": [
        "#Ошибка произошла на третьем уровне, первые два успешны\n",
        "#очевидно модель придала больше веса словам держатель и гарнитур нежели отход\n",
        "#думаю можно уменьшить число таких ошибок за счет подключения моделей предобученных на больших массивах данных\n",
        "#здесь же для быстрой реализации использован tfidf векторйзер, что все равно дает довольно высокий результат\n",
        "#еще один минус в том, что некоторые классы особенно на 5ом листовом уровне имеют очень мало экземпляров\n",
        "# для их предсказания можно использовать предобученную на других данных модели, сравнивая эмбеддинги названия продукта и категории например с помощью cosine_similarity"
      ],
      "execution_count": 154,
      "outputs": []
    },
    {
      "cell_type": "code",
      "metadata": {
        "colab": {
          "base_uri": "https://localhost:8080/"
        },
        "id": "SL6XSzaQTCAC",
        "outputId": "3e92da2f-2d6d-4e78-99d6-fe427e37d59e"
      },
      "source": [
        "#метрики для третьего уровня\n",
        "metrics['path3']"
      ],
      "execution_count": 152,
      "outputs": [
        {
          "output_type": "execute_result",
          "data": {
            "text/plain": [
              "[{'acc': 0.8339100346020761, 'mcc': 0.8173310836974744},\n",
              " {'acc': 0.905982905982906, 'mcc': 0.8571983008834577},\n",
              " {'acc': 0.8489208633093526, 'mcc': 0.8303868610304699},\n",
              " {'acc': 0.9705718010802756, 'mcc': 0.8962797385202672},\n",
              " {'acc': 0.9589442815249267, 'mcc': 0.8931579321146839},\n",
              " {'acc': 0.967391304347826, 'mcc': 0.8042912745761446},\n",
              " {'acc': 0.9457700650759219, 'mcc': 0.920058501329628},\n",
              " {'acc': 0.8110599078341014, 'mcc': 0.7734411069671432},\n",
              " {'acc': 0.8178331735378715, 'mcc': 0.7660042958571215},\n",
              " {'acc': 0.9533333333333334, 'mcc': 0.9452425345732371},\n",
              " {'acc': 0.9175141242937853, 'mcc': 0.8520985815081134},\n",
              " {'acc': 0.8847765363128491, 'mcc': 0.843690663834568},\n",
              " {'acc': 0.8896321070234113, 'mcc': 0.8500785823889428},\n",
              " {'acc': 0.8181818181818182, 'mcc': 0.7040881191050375},\n",
              " {'acc': 0.9240297274979355, 'mcc': 0.8997014983919768},\n",
              " {'acc': 0.9468354430379747, 'mcc': 0.9144825375595053},\n",
              " {'acc': 0.9069506726457399, 'mcc': 0.8687132842542019},\n",
              " {'acc': 0.8683127572016461, 'mcc': 0.8350833209974737},\n",
              " {'acc': 0.892, 'mcc': 0.8393947138145892},\n",
              " {'acc': 0.8245614035087719, 'mcc': 0.7655678192435215},\n",
              " {'acc': 0.828125, 'mcc': 0.6303536730273684},\n",
              " {'acc': 0.9064516129032258, 'mcc': 0.5578859581855731},\n",
              " {'acc': 0.7946428571428571, 'mcc': 0.7319265658628646},\n",
              " {'acc': 0.6666666666666666, 'mcc': 0.6309806399111096},\n",
              " {'acc': 0.8974358974358975, 'mcc': 0.8459270610357565},\n",
              " {'acc': 0.8421052631578947, 'mcc': 0.7024785918031932},\n",
              " {'acc': 0.8448275862068966, 'mcc': 0.756338935214071},\n",
              " {'acc': 0.7922077922077922, 'mcc': 0.6695882832819712},\n",
              " {'acc': 0.9130434782608695, 'mcc': 0.8571475874987732},\n",
              " {'acc': 1.0, 'mcc': 0.0},\n",
              " {'acc': 0.7616279069767442, 'mcc': 0.6683903053834411},\n",
              " {'acc': 0.7258064516129032, 'mcc': 0.5798781354335723},\n",
              " {'acc': 0.5757575757575758, 'mcc': 0.41732884889260663},\n",
              " {'acc': 0.8, 'mcc': 0.0},\n",
              " {'acc': 0.75, 'mcc': 0.0},\n",
              " {'acc': 0.6, 'mcc': 0.0},\n",
              " {'acc': 1.0, 'mcc': 0.0}]"
            ]
          },
          "metadata": {},
          "execution_count": 152
        }
      ]
    },
    {
      "cell_type": "code",
      "metadata": {
        "id": "smTkZBBuTEZC"
      },
      "source": [
        ""
      ],
      "execution_count": null,
      "outputs": []
    }
  ]
}